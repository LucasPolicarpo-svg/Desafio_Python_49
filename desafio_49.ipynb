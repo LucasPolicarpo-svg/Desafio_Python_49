{
 "cells": [
  {
   "cell_type": "code",
   "execution_count": 8,
   "metadata": {},
   "outputs": [
    {
     "name": "stdout",
     "output_type": "stream",
     "text": [
      "Na música \"Aerials\" da banda System of a Down, há um total de 310 vogais.\n"
     ]
    }
   ],
   "source": [
    "musica = \"areials.txt\"\n",
    "cont = 0\n",
    "vogais = \"aeiou\"\n",
    "\n",
    "with open(musica, \"r\", encoding=\"utf-8\") as arquivo:\n",
    "    conteudo = arquivo.read().lower()\n",
    "    for char in conteudo:\n",
    "        if char in vogais:\n",
    "            cont += 1\n",
    "\n",
    "print(f'Na música \"Aerials\" da banda System of a Down, há um total de {cont} vogais.')\n"
   ]
  },
  {
   "cell_type": "code",
   "execution_count": 5,
   "metadata": {},
   "outputs": [
    {
     "name": "stdout",
     "output_type": "stream",
     "text": [
      "Life is a waterfall\n",
      "We're one in the river and one again after the fall\n",
      "Swimming through the void, we hear the word\n",
      "We lose ourselves, but we find it all\n",
      "\n",
      "'Cause we are the ones that wanna play\n",
      "Always\n"
     ]
    }
   ],
   "source": [
    "arquivo = open(\"areials.txt\", \"r\", encoding=\"utf-8\")\n",
    "\n",
    "print(arquivo.read(200))\n",
    "\n",
    "arquivo.close()"
   ]
  }
 ],
 "metadata": {
  "kernelspec": {
   "display_name": "Python 3.11.5 64-bit",
   "language": "python",
   "name": "python3"
  },
  "language_info": {
   "codemirror_mode": {
    "name": "ipython",
    "version": 3
   },
   "file_extension": ".py",
   "mimetype": "text/x-python",
   "name": "python",
   "nbconvert_exporter": "python",
   "pygments_lexer": "ipython3",
   "version": "3.11.5"
  },
  "orig_nbformat": 4,
  "vscode": {
   "interpreter": {
    "hash": "ea2f8e7e2e8e5b7d50e8edb1211b642bb93928802902cc0efa762f144d748efc"
   }
  }
 },
 "nbformat": 4,
 "nbformat_minor": 2
}
